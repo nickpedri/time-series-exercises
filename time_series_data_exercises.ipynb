{
 "cells": [
  {
   "cell_type": "markdown",
   "id": "1c476483-e4c2-445f-a6c1-2fb2afd4370a",
   "metadata": {
    "tags": []
   },
   "source": [
    "# Working with time series data Exercises\n",
    "\n",
    "For all of the datasets below, examine the data types of each column, ensure that the dates are in the proper format, and set the dataframe's index to the date column as appropriate.\n",
    "\n",
    "For this exercise you'll need to install a library that will provide us access to some more datasets:"
   ]
  },
  {
   "cell_type": "code",
   "execution_count": 1,
   "id": "24d84f59-4ddd-4b21-b6c0-00a92b8555a5",
   "metadata": {},
   "outputs": [],
   "source": [
    "# pip install vega_datasets"
   ]
  },
  {
   "cell_type": "markdown",
   "id": "f6b9831d-21e5-4630-bd68-aa29c980fa5c",
   "metadata": {},
   "source": [
    "You can use this library like so:"
   ]
  },
  {
   "cell_type": "code",
   "execution_count": 2,
   "id": "c00c56d7-84c4-41d7-9a35-99d1ac3ad86c",
   "metadata": {},
   "outputs": [],
   "source": [
    "from vega_datasets import data\n",
    "import pandas as pd\n",
    "import numpy as np\n",
    "\n",
    "import seaborn as sns\n",
    "import matplotlib.pyplot as plt"
   ]
  },
  {
   "cell_type": "markdown",
   "id": "0f83a5aa-171b-48d9-ac23-31dcbd0094d4",
   "metadata": {},
   "source": [
    "## PT. 1"
   ]
  },
  {
   "cell_type": "markdown",
   "id": "e5bbef84-b8eb-4a91-b22e-e41adab0e17c",
   "metadata": {},
   "source": [
    "Call the sf_temps() dataset from the vega_datasets library like so:"
   ]
  },
  {
   "cell_type": "markdown",
   "id": "39b6a75a-0ebb-47f9-997e-e36e0e5a2dfc",
   "metadata": {},
   "source": [
    "data.sf_temps()\n",
    "\n",
    "Use the above dataset for the following exercises:"
   ]
  },
  {
   "cell_type": "markdown",
   "id": "4b9e473f-2f0e-49df-ae2c-2456f264dcd9",
   "metadata": {},
   "source": [
    "### 1. Resample by the day and take the average temperature. Visualize the average temperature over time."
   ]
  },
  {
   "cell_type": "code",
   "execution_count": 3,
   "id": "a97a329a-8be7-406d-907d-185ef3d44388",
   "metadata": {},
   "outputs": [],
   "source": [
    "temp = data.sf_temps()"
   ]
  },
  {
   "cell_type": "code",
   "execution_count": 4,
   "id": "016c95e7-2372-4be6-a67d-a6e19e315134",
   "metadata": {},
   "outputs": [
    {
     "data": {
      "text/html": [
       "<div>\n",
       "<style scoped>\n",
       "    .dataframe tbody tr th:only-of-type {\n",
       "        vertical-align: middle;\n",
       "    }\n",
       "\n",
       "    .dataframe tbody tr th {\n",
       "        vertical-align: top;\n",
       "    }\n",
       "\n",
       "    .dataframe thead th {\n",
       "        text-align: right;\n",
       "    }\n",
       "</style>\n",
       "<table border=\"1\" class=\"dataframe\">\n",
       "  <thead>\n",
       "    <tr style=\"text-align: right;\">\n",
       "      <th></th>\n",
       "      <th>temp</th>\n",
       "      <th>date</th>\n",
       "    </tr>\n",
       "  </thead>\n",
       "  <tbody>\n",
       "    <tr>\n",
       "      <th>0</th>\n",
       "      <td>47.8</td>\n",
       "      <td>2010-01-01 00:00:00</td>\n",
       "    </tr>\n",
       "    <tr>\n",
       "      <th>1</th>\n",
       "      <td>47.4</td>\n",
       "      <td>2010-01-01 01:00:00</td>\n",
       "    </tr>\n",
       "    <tr>\n",
       "      <th>2</th>\n",
       "      <td>46.9</td>\n",
       "      <td>2010-01-01 02:00:00</td>\n",
       "    </tr>\n",
       "  </tbody>\n",
       "</table>\n",
       "</div>"
      ],
      "text/plain": [
       "   temp                date\n",
       "0  47.8 2010-01-01 00:00:00\n",
       "1  47.4 2010-01-01 01:00:00\n",
       "2  46.9 2010-01-01 02:00:00"
      ]
     },
     "execution_count": 4,
     "metadata": {},
     "output_type": "execute_result"
    }
   ],
   "source": [
    "temp.head(3)"
   ]
  },
  {
   "cell_type": "code",
   "execution_count": 5,
   "id": "8c9ea3a9-32c2-4564-aca2-34f0de99b23f",
   "metadata": {},
   "outputs": [],
   "source": [
    "temp = temp.set_index('date')"
   ]
  },
  {
   "cell_type": "code",
   "execution_count": 6,
   "id": "fdce2a4c-0957-4117-a395-e8cb5eb8817e",
   "metadata": {},
   "outputs": [
    {
     "data": {
      "text/html": [
       "<div>\n",
       "<style scoped>\n",
       "    .dataframe tbody tr th:only-of-type {\n",
       "        vertical-align: middle;\n",
       "    }\n",
       "\n",
       "    .dataframe tbody tr th {\n",
       "        vertical-align: top;\n",
       "    }\n",
       "\n",
       "    .dataframe thead th {\n",
       "        text-align: right;\n",
       "    }\n",
       "</style>\n",
       "<table border=\"1\" class=\"dataframe\">\n",
       "  <thead>\n",
       "    <tr style=\"text-align: right;\">\n",
       "      <th></th>\n",
       "      <th>temp</th>\n",
       "    </tr>\n",
       "    <tr>\n",
       "      <th>date</th>\n",
       "      <th></th>\n",
       "    </tr>\n",
       "  </thead>\n",
       "  <tbody>\n",
       "    <tr>\n",
       "      <th>2010-01-01 00:00:00</th>\n",
       "      <td>47.8</td>\n",
       "    </tr>\n",
       "    <tr>\n",
       "      <th>2010-01-01 01:00:00</th>\n",
       "      <td>47.4</td>\n",
       "    </tr>\n",
       "    <tr>\n",
       "      <th>2010-01-01 02:00:00</th>\n",
       "      <td>46.9</td>\n",
       "    </tr>\n",
       "  </tbody>\n",
       "</table>\n",
       "</div>"
      ],
      "text/plain": [
       "                     temp\n",
       "date                     \n",
       "2010-01-01 00:00:00  47.8\n",
       "2010-01-01 01:00:00  47.4\n",
       "2010-01-01 02:00:00  46.9"
      ]
     },
     "execution_count": 6,
     "metadata": {},
     "output_type": "execute_result"
    }
   ],
   "source": [
    "temp.head(3)"
   ]
  },
  {
   "cell_type": "code",
   "execution_count": 7,
   "id": "28631f01-35e5-4bfb-831c-55b122b203f7",
   "metadata": {},
   "outputs": [],
   "source": [
    "day_avg = temp.resample('d').mean()"
   ]
  },
  {
   "cell_type": "code",
   "execution_count": 8,
   "id": "f8efd03c-625d-4fa7-8be8-01f3aeb00307",
   "metadata": {},
   "outputs": [
    {
     "data": {
      "text/plain": [
       "[<matplotlib.lines.Line2D at 0x128711f30>]"
      ]
     },
     "execution_count": 8,
     "metadata": {},
     "output_type": "execute_result"
    },
    {
     "data": {
      "image/png": "[encoded data removed]",
      "text/plain": [
       "<Figure size 1000x600 with 1 Axes>"
      ]
     },
     "metadata": {},
     "output_type": "display_data"
    }
   ],
   "source": [
    "plt.figure(figsize=(10,6))\n",
    "plt.plot(day_avg)"
   ]
  },
  {
   "cell_type": "markdown",
   "id": "88818fa8-c0ac-47df-be7d-f55cf43bec5f",
   "metadata": {
    "tags": []
   },
   "source": [
    "### 2. Write the code necessary to visualize the minimum temperature over time."
   ]
  },
  {
   "cell_type": "code",
   "execution_count": 9,
   "id": "35ff508c-bd2d-401f-828e-e54fdc0d5c62",
   "metadata": {},
   "outputs": [],
   "source": [
    "min_daily_temp = temp.resample('d').min()"
   ]
  },
  {
   "cell_type": "code",
   "execution_count": 10,
   "id": "c331c980-e66f-459f-a58c-1b6c40461845",
   "metadata": {},
   "outputs": [
    {
     "data": {
      "text/plain": [
       "[<matplotlib.lines.Line2D at 0x129087cd0>]"
      ]
     },
     "execution_count": 10,
     "metadata": {},
     "output_type": "execute_result"
    },
    {
     "data": {
      "image/png": "[encoded data removed]",
      "text/plain": [
       "<Figure size 640x480 with 1 Axes>"
      ]
     },
     "metadata": {},
     "output_type": "display_data"
    }
   ],
   "source": [
    "plt.plot(min_daily_temp)"
   ]
  },
  {
   "cell_type": "markdown",
   "id": "181e7975-952c-4dd4-8742-b9ae7b6994c6",
   "metadata": {},
   "source": [
    "### 3. Write the code necessary to visualize the maximum temperature over time."
   ]
  },
  {
   "cell_type": "code",
   "execution_count": 11,
   "id": "10aeb120-2478-47c4-acb0-6bc65dcf9a70",
   "metadata": {},
   "outputs": [],
   "source": [
    "max_daily_temp = temp.resample('d').max()"
   ]
  },
  {
   "cell_type": "code",
   "execution_count": 12,
   "id": "263b7724-903e-4eae-8561-42f3d288cd83",
   "metadata": {},
   "outputs": [
    {
     "data": {
      "text/plain": [
       "[<matplotlib.lines.Line2D at 0x1290fe7d0>]"
      ]
     },
     "execution_count": 12,
     "metadata": {},
     "output_type": "execute_result"
    },
    {
     "data": {
      "image/png": "[encoded data removed]",
      "text/plain": [
       "<Figure size 640x480 with 1 Axes>"
      ]
     },
     "metadata": {},
     "output_type": "display_data"
    }
   ],
   "source": [
    "plt.plot(max_daily_temp)"
   ]
  },
  {
   "cell_type": "markdown",
   "id": "ad07acbf-1b07-4257-9696-f20134267c20",
   "metadata": {},
   "source": [
    "### 4. Which month is the coldest, on average?"
   ]
  },
  {
   "cell_type": "code",
   "execution_count": 13,
   "id": "f22a5e14-2c3e-41b0-87ae-5cfcc2edc29b",
   "metadata": {},
   "outputs": [],
   "source": [
    "monthly_temp = temp.resample('m').mean()"
   ]
  },
  {
   "cell_type": "code",
   "execution_count": 178,
   "id": "f179e3e3-b6f0-4574-9e7e-d17a581142a1",
   "metadata": {},
   "outputs": [
    {
     "data": {
      "text/plain": [
       "temp    January\n",
       "dtype: object"
      ]
     },
     "execution_count": 178,
     "metadata": {},
     "output_type": "execute_result"
    }
   ],
   "source": [
    "monthly_temp.idxmin().dt.month_name()"
   ]
  },
  {
   "cell_type": "markdown",
   "id": "37e5a829-635f-4b92-a818-3aba6046a363",
   "metadata": {},
   "source": [
    "### 5. Which month has the highest average temperature?"
   ]
  },
  {
   "cell_type": "code",
   "execution_count": 15,
   "id": "54355395-9582-434f-95d5-5e898a0f4345",
   "metadata": {},
   "outputs": [
    {
     "data": {
      "text/plain": [
       "temp    September\n",
       "dtype: object"
      ]
     },
     "execution_count": 15,
     "metadata": {},
     "output_type": "execute_result"
    }
   ],
   "source": [
    "monthly_temp.idxmax().dt.month_name()"
   ]
  },
  {
   "cell_type": "markdown",
   "id": "7a5e314a-60bc-4596-a37f-fdd7b5187f67",
   "metadata": {},
   "source": [
    "### 6. Resample by the day and calculate the min and max temp for the day (Hint: .agg(['min', 'max'])). Use this resampled dataframe to calculate the change in temperature for the day. Which month has the highest daily temperature variability?"
   ]
  },
  {
   "cell_type": "code",
   "execution_count": 179,
   "id": "4d69a7c9-f9f0-4b98-b995-29b6ab3f5c43",
   "metadata": {},
   "outputs": [],
   "source": [
    "daily_temp = temp.resample('d')\n",
    "daily_var = daily_temp.max() - daily_temp.min()"
   ]
  },
  {
   "cell_type": "code",
   "execution_count": 180,
   "id": "1b42a997-fa1c-47ab-92ce-78a6022f7028",
   "metadata": {},
   "outputs": [],
   "source": [
    "daily_temp_avg = daily_temp.mean()"
   ]
  },
  {
   "cell_type": "code",
   "execution_count": 181,
   "id": "c9c95e8c-3ca5-4a83-8951-e882bf2c7dbf",
   "metadata": {},
   "outputs": [],
   "source": [
    "daily_temp_avg['variance'] = daily_var"
   ]
  },
  {
   "cell_type": "code",
   "execution_count": 182,
   "id": "f6296b27-7d61-4bd2-b5a4-f654781c001e",
   "metadata": {},
   "outputs": [],
   "source": [
    "monthly_var = daily_temp_avg.resample('m').mean()"
   ]
  },
  {
   "cell_type": "code",
   "execution_count": 183,
   "id": "2f1a2bd6-a4b4-4852-8392-48aee95abbe9",
   "metadata": {},
   "outputs": [
    {
     "data": {
      "text/plain": [
       "'September'"
      ]
     },
     "execution_count": 183,
     "metadata": {},
     "output_type": "execute_result"
    }
   ],
   "source": [
    "monthly_var.variance.idxmax().month_name()"
   ]
  },
  {
   "cell_type": "markdown",
   "id": "37745a31-b23a-4df2-9328-fa1f0438a1c2",
   "metadata": {},
   "source": [
    "### 7. Bonus: Visualize the daily min, average, and max temperature over time on a single line plot, i.e. the min, average, and maximum temperature should be 3 seperate lines."
   ]
  },
  {
   "cell_type": "code",
   "execution_count": 176,
   "id": "885f811e-af8a-4720-93ee-da46f9c94fb8",
   "metadata": {},
   "outputs": [
    {
     "data": {
      "text/plain": [
       "<matplotlib.legend.Legend at 0x173b83e50>"
      ]
     },
     "execution_count": 176,
     "metadata": {},
     "output_type": "execute_result"
    },
    {
     "data": {
      "image/png": "[encoded data removed]",
      "text/plain": [
       "<Figure size 1000x600 with 1 Axes>"
      ]
     },
     "metadata": {},
     "output_type": "display_data"
    }
   ],
   "source": [
    "plt.figure(figsize=(10,6))\n",
    "plt.plot(daily_temp.mean(), color='green', label='avg')\n",
    "plt.plot(daily_temp.min(), label='min')\n",
    "plt.plot(daily_temp.max(), color='red', label='max')\n",
    "plt.legend()"
   ]
  },
  {
   "cell_type": "markdown",
   "id": "21e068cc-e2db-4313-8a41-10b13479c216",
   "metadata": {},
   "source": [
    "## PT. 2"
   ]
  },
  {
   "cell_type": "markdown",
   "id": "756758e1-907f-448f-852b-3fb5345b4a5f",
   "metadata": {},
   "source": [
    "data.seattle_weather()\n",
    "\n",
    "Use the above dataset for the following exercises:"
   ]
  },
  {
   "cell_type": "markdown",
   "id": "0a184448-79e6-4a18-b9e2-8474b302a41d",
   "metadata": {},
   "source": [
    "### 1. Which year and month combination has the highest amount of precipitation?"
   ]
  },
  {
   "cell_type": "code",
   "execution_count": 36,
   "id": "ed81f993-8bf8-4bd1-89ad-dac87ef2ae57",
   "metadata": {},
   "outputs": [],
   "source": [
    "w = data.seattle_weather()"
   ]
  },
  {
   "cell_type": "code",
   "execution_count": 40,
   "id": "dc76a8c6-c6fb-4ae0-a37f-bd525891e6cc",
   "metadata": {},
   "outputs": [],
   "source": [
    "w = w.set_index('date')"
   ]
  },
  {
   "cell_type": "code",
   "execution_count": 37,
   "id": "9ca7d9d2-8764-4292-a7a8-d1412a9c8ab5",
   "metadata": {},
   "outputs": [
    {
     "data": {
      "text/html": [
       "<div>\n",
       "<style scoped>\n",
       "    .dataframe tbody tr th:only-of-type {\n",
       "        vertical-align: middle;\n",
       "    }\n",
       "\n",
       "    .dataframe tbody tr th {\n",
       "        vertical-align: top;\n",
       "    }\n",
       "\n",
       "    .dataframe thead th {\n",
       "        text-align: right;\n",
       "    }\n",
       "</style>\n",
       "<table border=\"1\" class=\"dataframe\">\n",
       "  <thead>\n",
       "    <tr style=\"text-align: right;\">\n",
       "      <th></th>\n",
       "      <th>date</th>\n",
       "      <th>precipitation</th>\n",
       "      <th>temp_max</th>\n",
       "      <th>temp_min</th>\n",
       "      <th>wind</th>\n",
       "      <th>weather</th>\n",
       "    </tr>\n",
       "  </thead>\n",
       "  <tbody>\n",
       "    <tr>\n",
       "      <th>0</th>\n",
       "      <td>2012-01-01</td>\n",
       "      <td>0.0</td>\n",
       "      <td>12.8</td>\n",
       "      <td>5.0</td>\n",
       "      <td>4.7</td>\n",
       "      <td>drizzle</td>\n",
       "    </tr>\n",
       "    <tr>\n",
       "      <th>1</th>\n",
       "      <td>2012-01-02</td>\n",
       "      <td>10.9</td>\n",
       "      <td>10.6</td>\n",
       "      <td>2.8</td>\n",
       "      <td>4.5</td>\n",
       "      <td>rain</td>\n",
       "    </tr>\n",
       "    <tr>\n",
       "      <th>2</th>\n",
       "      <td>2012-01-03</td>\n",
       "      <td>0.8</td>\n",
       "      <td>11.7</td>\n",
       "      <td>7.2</td>\n",
       "      <td>2.3</td>\n",
       "      <td>rain</td>\n",
       "    </tr>\n",
       "    <tr>\n",
       "      <th>3</th>\n",
       "      <td>2012-01-04</td>\n",
       "      <td>20.3</td>\n",
       "      <td>12.2</td>\n",
       "      <td>5.6</td>\n",
       "      <td>4.7</td>\n",
       "      <td>rain</td>\n",
       "    </tr>\n",
       "    <tr>\n",
       "      <th>4</th>\n",
       "      <td>2012-01-05</td>\n",
       "      <td>1.3</td>\n",
       "      <td>8.9</td>\n",
       "      <td>2.8</td>\n",
       "      <td>6.1</td>\n",
       "      <td>rain</td>\n",
       "    </tr>\n",
       "  </tbody>\n",
       "</table>\n",
       "</div>"
      ],
      "text/plain": [
       "        date  precipitation  temp_max  temp_min  wind  weather\n",
       "0 2012-01-01            0.0      12.8       5.0   4.7  drizzle\n",
       "1 2012-01-02           10.9      10.6       2.8   4.5     rain\n",
       "2 2012-01-03            0.8      11.7       7.2   2.3     rain\n",
       "3 2012-01-04           20.3      12.2       5.6   4.7     rain\n",
       "4 2012-01-05            1.3       8.9       2.8   6.1     rain"
      ]
     },
     "execution_count": 37,
     "metadata": {},
     "output_type": "execute_result"
    }
   ],
   "source": [
    "w.head()"
   ]
  },
  {
   "cell_type": "code",
   "execution_count": 50,
   "id": "da50f455-1c04-410d-a80b-ea28179e6f7f",
   "metadata": {},
   "outputs": [
    {
     "data": {
      "text/plain": [
       "'Dec 15'"
      ]
     },
     "execution_count": 50,
     "metadata": {},
     "output_type": "execute_result"
    }
   ],
   "source": [
    "w.resample('m').precipitation.sum().idxmax().strftime('%b %y')"
   ]
  },
  {
   "cell_type": "markdown",
   "id": "45ea4754-708c-421b-b67c-e00a4e9d7107",
   "metadata": {},
   "source": [
    "This date had the highest cumulative rainfall"
   ]
  },
  {
   "cell_type": "code",
   "execution_count": 184,
   "id": "ca7f32e4-b800-4838-805b-6a2b137c1379",
   "metadata": {},
   "outputs": [],
   "source": [
    "monthly = w.resample('M')"
   ]
  },
  {
   "cell_type": "markdown",
   "id": "5d62814b-3cf3-413d-8437-ebe5f1fa0879",
   "metadata": {},
   "source": [
    "### 2. Visualize the amount of monthly precipitation over time."
   ]
  },
  {
   "cell_type": "code",
   "execution_count": 185,
   "id": "2b73be40-d940-4953-be2c-3342dab7f8e1",
   "metadata": {},
   "outputs": [
    {
     "data": {
      "text/plain": [
       "[<matplotlib.lines.Line2D at 0x173c1f550>]"
      ]
     },
     "execution_count": 185,
     "metadata": {},
     "output_type": "execute_result"
    },
    {
     "data": {
      "image/png": "[encoded data removed]",
      "text/plain": [
       "<Figure size 1000x600 with 1 Axes>"
      ]
     },
     "metadata": {},
     "output_type": "display_data"
    }
   ],
   "source": [
    "plt.figure(figsize=(10,6))\n",
    "plt.plot(monthly.precipitation.sum())"
   ]
  },
  {
   "cell_type": "markdown",
   "id": "062103a7-e317-4134-957f-3c0474976e23",
   "metadata": {},
   "source": [
    "### 3. Visualize the amount of wind over time. Choose a time interval you think is appropriate."
   ]
  },
  {
   "cell_type": "code",
   "execution_count": 186,
   "id": "ccaf67f0-2b74-4319-97f2-47d189fe1e52",
   "metadata": {},
   "outputs": [
    {
     "data": {
      "image/png": "[encoded data removed]",
      "text/plain": [
       "<Figure size 1000x600 with 1 Axes>"
      ]
     },
     "metadata": {},
     "output_type": "display_data"
    }
   ],
   "source": [
    "plt.figure(figsize=(10,6))\n",
    "plt.plot(monthly.wind.mean())\n",
    "plt.show()"
   ]
  },
  {
   "cell_type": "markdown",
   "id": "b8a06574-0a22-4e50-b5f8-dca13a1763b1",
   "metadata": {},
   "source": [
    "### 4. Which year-month combination is the windiest?"
   ]
  },
  {
   "cell_type": "code",
   "execution_count": 60,
   "id": "ceed4a53-8baa-4c91-8890-dd0f71b75f33",
   "metadata": {},
   "outputs": [
    {
     "data": {
      "text/plain": [
       "'Feb 14'"
      ]
     },
     "execution_count": 60,
     "metadata": {},
     "output_type": "execute_result"
    }
   ],
   "source": [
    "w.resample('m').wind.mean().idxmax().strftime('%b %y')"
   ]
  },
  {
   "cell_type": "markdown",
   "id": "0b209100-412e-4046-9a5f-429229048c32",
   "metadata": {},
   "source": [
    "This date had the highest average wind."
   ]
  },
  {
   "cell_type": "markdown",
   "id": "4642a4c2-4891-4ba5-9e93-fc7ed536b404",
   "metadata": {},
   "source": [
    "### 5. What's the sunniest year? (Hint: which day has the highest number of days where weather == sun?)"
   ]
  },
  {
   "cell_type": "code",
   "execution_count": 74,
   "id": "38ebdb08-3c47-49fc-8cb7-b98be9f4f88d",
   "metadata": {},
   "outputs": [
    {
     "data": {
      "text/plain": [
       "2014"
      ]
     },
     "execution_count": 74,
     "metadata": {},
     "output_type": "execute_result"
    }
   ],
   "source": [
    "sunny = w.weather == 'sun'\n",
    "sunny.resample('y').sum().idxmax().year"
   ]
  },
  {
   "cell_type": "markdown",
   "id": "45188a3c-8ecf-4541-834d-d422263cbe39",
   "metadata": {},
   "source": [
    "### 6. In which month does it rain the most?"
   ]
  },
  {
   "cell_type": "code",
   "execution_count": 83,
   "id": "4bc87c82-1455-42a6-837d-b2ae3e5f0c52",
   "metadata": {},
   "outputs": [
    {
     "data": {
      "text/plain": [
       "Int64Index([ 1,  1,  1,  1,  1,  1,  1,  1,  1,  1,\n",
       "            ...\n",
       "            12, 12, 12, 12, 12, 12, 12, 12, 12, 12],\n",
       "           dtype='int64', name='date', length=1461)"
      ]
     },
     "execution_count": 83,
     "metadata": {},
     "output_type": "execute_result"
    }
   ],
   "source": [
    "w.index.month"
   ]
  },
  {
   "cell_type": "code",
   "execution_count": 93,
   "id": "6713054d-25cd-47ea-a8eb-f29e7f4ce6c3",
   "metadata": {},
   "outputs": [],
   "source": [
    "rainy = w.weather == 'rain'\n",
    "rain_sum = rainy.resample('m').sum()"
   ]
  },
  {
   "cell_type": "code",
   "execution_count": 95,
   "id": "f6e59a2f-de3d-4557-b521-ca4ef02e6247",
   "metadata": {},
   "outputs": [],
   "source": [
    "rain_sum.index = rain_sum.index.month_name()"
   ]
  },
  {
   "cell_type": "code",
   "execution_count": 101,
   "id": "f5d3b056-3d41-4bbb-9da6-422675530c19",
   "metadata": {},
   "outputs": [
    {
     "data": {
      "text/plain": [
       "'February'"
      ]
     },
     "execution_count": 101,
     "metadata": {},
     "output_type": "execute_result"
    }
   ],
   "source": [
    "rain_sum.groupby('date').mean().idxmax()"
   ]
  },
  {
   "cell_type": "code",
   "execution_count": null,
   "id": "83bfe061-7c8d-4c9d-8a97-110a1586fddb",
   "metadata": {},
   "outputs": [],
   "source": [
    "# February has the highest average cumulative rainfall"
   ]
  },
  {
   "cell_type": "markdown",
   "id": "7c87c8a3-1c10-43a2-8bcc-ff8c0ef6fc21",
   "metadata": {},
   "source": [
    "### 7. Which month has the most number of days with a non-zero amount of precipitation?"
   ]
  },
  {
   "cell_type": "code",
   "execution_count": 103,
   "id": "f4ef9d87-9aea-4569-afc4-0e70d32f5a17",
   "metadata": {},
   "outputs": [],
   "source": [
    "w_precip = w.precipitation > 0"
   ]
  },
  {
   "cell_type": "code",
   "execution_count": 107,
   "id": "795f3c0b-a654-4558-84f6-a2bd4ec342cc",
   "metadata": {},
   "outputs": [
    {
     "data": {
      "text/plain": [
       "'Dec 12'"
      ]
     },
     "execution_count": 107,
     "metadata": {},
     "output_type": "execute_result"
    }
   ],
   "source": [
    "w_precip.resample('m').sum().idxmax().strftime('%b %y')"
   ]
  },
  {
   "cell_type": "markdown",
   "id": "13358bfb-64c7-42c2-a394-8a394804e7d0",
   "metadata": {},
   "source": [
    "## PT. 3"
   ]
  },
  {
   "cell_type": "markdown",
   "id": "1987643f-9809-4bb1-9255-064b778fa4dc",
   "metadata": {},
   "source": [
    "data.flights_20k()\n",
    "\n",
    "Use the above dataset for the following exercises:"
   ]
  },
  {
   "cell_type": "code",
   "execution_count": 108,
   "id": "2dfcabcc-1bc5-44f3-81a1-7a99f39ea806",
   "metadata": {},
   "outputs": [],
   "source": [
    "fly = data.flights_20k()"
   ]
  },
  {
   "cell_type": "code",
   "execution_count": 111,
   "id": "9b58ed36-88d3-4c29-aa3a-4ee5b74ed6e4",
   "metadata": {},
   "outputs": [
    {
     "data": {
      "text/html": [
       "<div>\n",
       "<style scoped>\n",
       "    .dataframe tbody tr th:only-of-type {\n",
       "        vertical-align: middle;\n",
       "    }\n",
       "\n",
       "    .dataframe tbody tr th {\n",
       "        vertical-align: top;\n",
       "    }\n",
       "\n",
       "    .dataframe thead th {\n",
       "        text-align: right;\n",
       "    }\n",
       "</style>\n",
       "<table border=\"1\" class=\"dataframe\">\n",
       "  <thead>\n",
       "    <tr style=\"text-align: right;\">\n",
       "      <th></th>\n",
       "      <th>date</th>\n",
       "      <th>delay</th>\n",
       "      <th>distance</th>\n",
       "      <th>origin</th>\n",
       "      <th>destination</th>\n",
       "    </tr>\n",
       "  </thead>\n",
       "  <tbody>\n",
       "    <tr>\n",
       "      <th>0</th>\n",
       "      <td>2001-01-13 14:56:00</td>\n",
       "      <td>32</td>\n",
       "      <td>417</td>\n",
       "      <td>SAN</td>\n",
       "      <td>SJC</td>\n",
       "    </tr>\n",
       "    <tr>\n",
       "      <th>1</th>\n",
       "      <td>2001-01-31 16:40:00</td>\n",
       "      <td>-5</td>\n",
       "      <td>1093</td>\n",
       "      <td>FLL</td>\n",
       "      <td>ISP</td>\n",
       "    </tr>\n",
       "    <tr>\n",
       "      <th>2</th>\n",
       "      <td>2001-02-11 18:39:00</td>\n",
       "      <td>3</td>\n",
       "      <td>293</td>\n",
       "      <td>LBB</td>\n",
       "      <td>DAL</td>\n",
       "    </tr>\n",
       "    <tr>\n",
       "      <th>3</th>\n",
       "      <td>2001-01-10 21:00:00</td>\n",
       "      <td>-15</td>\n",
       "      <td>550</td>\n",
       "      <td>MSY</td>\n",
       "      <td>MCO</td>\n",
       "    </tr>\n",
       "    <tr>\n",
       "      <th>4</th>\n",
       "      <td>2001-03-30 21:45:00</td>\n",
       "      <td>-2</td>\n",
       "      <td>229</td>\n",
       "      <td>STL</td>\n",
       "      <td>IND</td>\n",
       "    </tr>\n",
       "    <tr>\n",
       "      <th>5</th>\n",
       "      <td>2001-03-14 14:55:00</td>\n",
       "      <td>3</td>\n",
       "      <td>405</td>\n",
       "      <td>MCI</td>\n",
       "      <td>MDW</td>\n",
       "    </tr>\n",
       "    <tr>\n",
       "      <th>6</th>\n",
       "      <td>2001-03-14 19:04:00</td>\n",
       "      <td>20</td>\n",
       "      <td>1999</td>\n",
       "      <td>BWI</td>\n",
       "      <td>PHX</td>\n",
       "    </tr>\n",
       "    <tr>\n",
       "      <th>7</th>\n",
       "      <td>2001-01-22 09:05:00</td>\n",
       "      <td>0</td>\n",
       "      <td>628</td>\n",
       "      <td>ABQ</td>\n",
       "      <td>SAN</td>\n",
       "    </tr>\n",
       "    <tr>\n",
       "      <th>8</th>\n",
       "      <td>2001-01-30 19:15:00</td>\n",
       "      <td>22</td>\n",
       "      <td>358</td>\n",
       "      <td>SMF</td>\n",
       "      <td>BUR</td>\n",
       "    </tr>\n",
       "    <tr>\n",
       "      <th>9</th>\n",
       "      <td>2001-01-27 07:00:00</td>\n",
       "      <td>-13</td>\n",
       "      <td>588</td>\n",
       "      <td>BNA</td>\n",
       "      <td>BWI</td>\n",
       "    </tr>\n",
       "  </tbody>\n",
       "</table>\n",
       "</div>"
      ],
      "text/plain": [
       "                 date  delay  distance origin destination\n",
       "0 2001-01-13 14:56:00     32       417    SAN         SJC\n",
       "1 2001-01-31 16:40:00     -5      1093    FLL         ISP\n",
       "2 2001-02-11 18:39:00      3       293    LBB         DAL\n",
       "3 2001-01-10 21:00:00    -15       550    MSY         MCO\n",
       "4 2001-03-30 21:45:00     -2       229    STL         IND\n",
       "5 2001-03-14 14:55:00      3       405    MCI         MDW\n",
       "6 2001-03-14 19:04:00     20      1999    BWI         PHX\n",
       "7 2001-01-22 09:05:00      0       628    ABQ         SAN\n",
       "8 2001-01-30 19:15:00     22       358    SMF         BUR\n",
       "9 2001-01-27 07:00:00    -13       588    BNA         BWI"
      ]
     },
     "execution_count": 111,
     "metadata": {},
     "output_type": "execute_result"
    }
   ],
   "source": [
    "fly.head(10)"
   ]
  },
  {
   "cell_type": "code",
   "execution_count": 117,
   "id": "d34a2823-3229-45bf-ad3e-01a66c3048a0",
   "metadata": {},
   "outputs": [],
   "source": [
    "fly = fly.set_index('date')"
   ]
  },
  {
   "cell_type": "code",
   "execution_count": 119,
   "id": "f3899ce1-9f87-455c-a626-ed2ff827cb4c",
   "metadata": {},
   "outputs": [],
   "source": [
    "fly = fly.sort_values('date')"
   ]
  },
  {
   "cell_type": "code",
   "execution_count": 132,
   "id": "060fec4b-98c1-4b4e-9d65-a841dc87ebcf",
   "metadata": {},
   "outputs": [
    {
     "data": {
      "text/plain": [
       "20000"
      ]
     },
     "execution_count": 132,
     "metadata": {},
     "output_type": "execute_result"
    }
   ],
   "source": [
    "len(fly)"
   ]
  },
  {
   "cell_type": "code",
   "execution_count": 120,
   "id": "57226c28-9ce9-452a-bd5f-9bb488820d31",
   "metadata": {},
   "outputs": [
    {
     "data": {
      "text/html": [
       "<div>\n",
       "<style scoped>\n",
       "    .dataframe tbody tr th:only-of-type {\n",
       "        vertical-align: middle;\n",
       "    }\n",
       "\n",
       "    .dataframe tbody tr th {\n",
       "        vertical-align: top;\n",
       "    }\n",
       "\n",
       "    .dataframe thead th {\n",
       "        text-align: right;\n",
       "    }\n",
       "</style>\n",
       "<table border=\"1\" class=\"dataframe\">\n",
       "  <thead>\n",
       "    <tr style=\"text-align: right;\">\n",
       "      <th></th>\n",
       "      <th>delay</th>\n",
       "      <th>distance</th>\n",
       "      <th>origin</th>\n",
       "      <th>destination</th>\n",
       "    </tr>\n",
       "    <tr>\n",
       "      <th>date</th>\n",
       "      <th></th>\n",
       "      <th></th>\n",
       "      <th></th>\n",
       "      <th></th>\n",
       "    </tr>\n",
       "  </thead>\n",
       "  <tbody>\n",
       "    <tr>\n",
       "      <th>2001-01-01 00:01:00</th>\n",
       "      <td>14</td>\n",
       "      <td>405</td>\n",
       "      <td>MCI</td>\n",
       "      <td>MDW</td>\n",
       "    </tr>\n",
       "    <tr>\n",
       "      <th>2001-01-01 06:20:00</th>\n",
       "      <td>0</td>\n",
       "      <td>491</td>\n",
       "      <td>BNA</td>\n",
       "      <td>MCI</td>\n",
       "    </tr>\n",
       "    <tr>\n",
       "      <th>2001-01-01 06:30:00</th>\n",
       "      <td>0</td>\n",
       "      <td>251</td>\n",
       "      <td>MDW</td>\n",
       "      <td>STL</td>\n",
       "    </tr>\n",
       "    <tr>\n",
       "      <th>2001-01-01 07:00:00</th>\n",
       "      <td>0</td>\n",
       "      <td>361</td>\n",
       "      <td>OAK</td>\n",
       "      <td>ONT</td>\n",
       "    </tr>\n",
       "    <tr>\n",
       "      <th>2001-01-01 07:00:00</th>\n",
       "      <td>0</td>\n",
       "      <td>303</td>\n",
       "      <td>MSY</td>\n",
       "      <td>HOU</td>\n",
       "    </tr>\n",
       "  </tbody>\n",
       "</table>\n",
       "</div>"
      ],
      "text/plain": [
       "                     delay  distance origin destination\n",
       "date                                                   \n",
       "2001-01-01 00:01:00     14       405    MCI         MDW\n",
       "2001-01-01 06:20:00      0       491    BNA         MCI\n",
       "2001-01-01 06:30:00      0       251    MDW         STL\n",
       "2001-01-01 07:00:00      0       361    OAK         ONT\n",
       "2001-01-01 07:00:00      0       303    MSY         HOU"
      ]
     },
     "execution_count": 120,
     "metadata": {},
     "output_type": "execute_result"
    }
   ],
   "source": [
    "fly.head()"
   ]
  },
  {
   "cell_type": "code",
   "execution_count": 152,
   "id": "6a2dc809-b997-470e-9558-09b7c8ccc0ac",
   "metadata": {},
   "outputs": [
    {
     "data": {
      "text/html": [
       "<div>\n",
       "<style scoped>\n",
       "    .dataframe tbody tr th:only-of-type {\n",
       "        vertical-align: middle;\n",
       "    }\n",
       "\n",
       "    .dataframe tbody tr th {\n",
       "        vertical-align: top;\n",
       "    }\n",
       "\n",
       "    .dataframe thead th {\n",
       "        text-align: right;\n",
       "    }\n",
       "</style>\n",
       "<table border=\"1\" class=\"dataframe\">\n",
       "  <thead>\n",
       "    <tr style=\"text-align: right;\">\n",
       "      <th></th>\n",
       "      <th>delay</th>\n",
       "      <th>distance</th>\n",
       "      <th>origin</th>\n",
       "      <th>destination</th>\n",
       "    </tr>\n",
       "    <tr>\n",
       "      <th>date</th>\n",
       "      <th></th>\n",
       "      <th></th>\n",
       "      <th></th>\n",
       "      <th></th>\n",
       "    </tr>\n",
       "  </thead>\n",
       "  <tbody>\n",
       "    <tr>\n",
       "      <th>2001-03-31 21:02:00</th>\n",
       "      <td>26</td>\n",
       "      <td>303</td>\n",
       "      <td>MSY</td>\n",
       "      <td>HOU</td>\n",
       "    </tr>\n",
       "    <tr>\n",
       "      <th>2001-03-31 21:05:00</th>\n",
       "      <td>0</td>\n",
       "      <td>318</td>\n",
       "      <td>FLL</td>\n",
       "      <td>JAX</td>\n",
       "    </tr>\n",
       "    <tr>\n",
       "      <th>2001-03-31 21:05:00</th>\n",
       "      <td>0</td>\n",
       "      <td>451</td>\n",
       "      <td>MCI</td>\n",
       "      <td>IND</td>\n",
       "    </tr>\n",
       "    <tr>\n",
       "      <th>2001-03-31 21:30:00</th>\n",
       "      <td>30</td>\n",
       "      <td>174</td>\n",
       "      <td>TPA</td>\n",
       "      <td>PBI</td>\n",
       "    </tr>\n",
       "    <tr>\n",
       "      <th>2001-03-31 21:30:00</th>\n",
       "      <td>0</td>\n",
       "      <td>495</td>\n",
       "      <td>BWI</td>\n",
       "      <td>SDF</td>\n",
       "    </tr>\n",
       "  </tbody>\n",
       "</table>\n",
       "</div>"
      ],
      "text/plain": [
       "                     delay  distance origin destination\n",
       "date                                                   \n",
       "2001-03-31 21:02:00     26       303    MSY         HOU\n",
       "2001-03-31 21:05:00      0       318    FLL         JAX\n",
       "2001-03-31 21:05:00      0       451    MCI         IND\n",
       "2001-03-31 21:30:00     30       174    TPA         PBI\n",
       "2001-03-31 21:30:00      0       495    BWI         SDF"
      ]
     },
     "execution_count": 152,
     "metadata": {},
     "output_type": "execute_result"
    }
   ],
   "source": [
    "fly.tail()"
   ]
  },
  {
   "cell_type": "markdown",
   "id": "c9f27a30-ffba-47db-81a5-7a175abf0da5",
   "metadata": {
    "tags": []
   },
   "source": [
    "### 1. Convert any negative delays to 0."
   ]
  },
  {
   "cell_type": "code",
   "execution_count": 114,
   "id": "f3daa498-b10f-496d-b7d3-3d4e0b41ed94",
   "metadata": {},
   "outputs": [
    {
     "data": {
      "text/plain": [
       "array([32,  0,  3,  0,  0,  3, 20,  0, 22,  0])"
      ]
     },
     "execution_count": 114,
     "metadata": {},
     "output_type": "execute_result"
    }
   ],
   "source": [
    "zero_delay = np.where(fly.delay < 0, 0, fly.delay)\n",
    "zero_delay[:10]"
   ]
  },
  {
   "cell_type": "code",
   "execution_count": 115,
   "id": "b3d1baed-e7b0-427b-8a00-da00f34788f0",
   "metadata": {},
   "outputs": [],
   "source": [
    "fly.delay = zero_delay"
   ]
  },
  {
   "cell_type": "markdown",
   "id": "8fb5ef7a-1d1f-442c-a441-354e12fe9b9c",
   "metadata": {},
   "source": [
    "### 2. Which hour of the day has the highest average delay?"
   ]
  },
  {
   "cell_type": "code",
   "execution_count": 124,
   "id": "1fe7926e-7d79-4cb5-a91b-32f6a8dc7291",
   "metadata": {},
   "outputs": [],
   "source": [
    "hourly_delay = fly.delay.resample('h').mean()"
   ]
  },
  {
   "cell_type": "code",
   "execution_count": 129,
   "id": "d120768c-9871-4a15-b4eb-9fe559d2fa46",
   "metadata": {},
   "outputs": [],
   "source": [
    "hourly_delay.index = hourly_delay.index.hour"
   ]
  },
  {
   "cell_type": "code",
   "execution_count": 135,
   "id": "361a98ca-43f3-47e8-90ff-c3e49bb071a2",
   "metadata": {},
   "outputs": [
    {
     "data": {
      "text/plain": [
       "3"
      ]
     },
     "execution_count": 135,
     "metadata": {},
     "output_type": "execute_result"
    }
   ],
   "source": [
    "hourly_delay.groupby('date').mean().idxmax()"
   ]
  },
  {
   "cell_type": "markdown",
   "id": "fe69f38a-68b5-4692-950c-1079015150af",
   "metadata": {},
   "source": [
    "3 in the morning has the highest average delay"
   ]
  },
  {
   "cell_type": "markdown",
   "id": "3ee12333-05a5-496a-803f-06241a7160f4",
   "metadata": {},
   "source": [
    "### 3. Does the day of the week make a difference in the delay amount?"
   ]
  },
  {
   "cell_type": "code",
   "execution_count": 144,
   "id": "1efe2e4e-c05e-49b1-ba7f-82a718fc9253",
   "metadata": {},
   "outputs": [],
   "source": [
    "fly_day = fly.copy()\n",
    "fly_day.index = fly.index.day_name()"
   ]
  },
  {
   "cell_type": "code",
   "execution_count": 149,
   "id": "c314cd9c-ee82-43c8-a737-aa251f0b226c",
   "metadata": {},
   "outputs": [
    {
     "data": {
      "text/plain": [
       "date\n",
       "Monday        7.165772\n",
       "Saturday      8.431498\n",
       "Tuesday       9.410866\n",
       "Sunday       10.413542\n",
       "Wednesday    11.032478\n",
       "Thursday     12.821322\n",
       "Friday       17.757596\n",
       "Name: delay, dtype: float64"
      ]
     },
     "execution_count": 149,
     "metadata": {},
     "output_type": "execute_result"
    }
   ],
   "source": [
    "fly_day.groupby('date').delay.mean().sort_values()"
   ]
  },
  {
   "cell_type": "markdown",
   "id": "0e4391e3-020f-4ef0-91d1-3f4a08a9a866",
   "metadata": {},
   "source": [
    "Fridays have the longest delays on average"
   ]
  },
  {
   "cell_type": "markdown",
   "id": "362e6eb6-c0df-4dde-8356-47e5e653b5f5",
   "metadata": {},
   "source": [
    "### 4. Does the month make a difference in the delay amount?"
   ]
  },
  {
   "cell_type": "code",
   "execution_count": 151,
   "id": "7e88e2c4-3e48-4bc4-99a1-e79939848ccc",
   "metadata": {},
   "outputs": [
    {
     "data": {
      "text/plain": [
       "date\n",
       "February    12.306106\n",
       "January     11.301592\n",
       "March        9.875287\n",
       "Name: delay, dtype: float64"
      ]
     },
     "execution_count": 151,
     "metadata": {},
     "output_type": "execute_result"
    }
   ],
   "source": [
    "fly_mon = fly.copy()\n",
    "fly_mon.index = fly.index.month_name()\n",
    "fly_mon.groupby('date').delay.mean()"
   ]
  },
  {
   "cell_type": "markdown",
   "id": "6bb30bcb-a0d9-4e3f-b6c9-777ae7691dcf",
   "metadata": {},
   "source": [
    "Hard to say if this result significant based from this. Jan and feb have slightly higher average delays but not by a lot."
   ]
  },
  {
   "cell_type": "code",
   "execution_count": 170,
   "id": "c7d3509e-66fd-4f02-95b5-60e6e1469f87",
   "metadata": {},
   "outputs": [],
   "source": [
    "import sys\n",
    "\n",
    "sys.path.append('/Users/nickolaspedrimiranda/CodeUp/Regression-Project/')\n",
    "\n",
    "from scipy import stats\n",
    "import evaluate as ev"
   ]
  },
  {
   "cell_type": "code",
   "execution_count": 158,
   "id": "9cfa8775-d80b-4c02-95e6-7070fe4e6ad9",
   "metadata": {},
   "outputs": [],
   "source": [
    "avg_monthly_delay = fly_mon.delay.mean()"
   ]
  },
  {
   "cell_type": "code",
   "execution_count": 173,
   "id": "26e77c9f-cf30-4e98-b2df-d5b062748636",
   "metadata": {},
   "outputs": [],
   "source": [
    "feb = fly_mon[fly_mon.index == 'February']\n",
    "jan = fly_mon[fly_mon.index == 'January']"
   ]
  },
  {
   "cell_type": "code",
   "execution_count": 164,
   "id": "76af82ff-1255-4567-9271-f0992faddc3d",
   "metadata": {},
   "outputs": [
    {
     "data": {
      "text/html": [
       "<div>\n",
       "<style scoped>\n",
       "    .dataframe tbody tr th:only-of-type {\n",
       "        vertical-align: middle;\n",
       "    }\n",
       "\n",
       "    .dataframe tbody tr th {\n",
       "        vertical-align: top;\n",
       "    }\n",
       "\n",
       "    .dataframe thead th {\n",
       "        text-align: right;\n",
       "    }\n",
       "</style>\n",
       "<table border=\"1\" class=\"dataframe\">\n",
       "  <thead>\n",
       "    <tr style=\"text-align: right;\">\n",
       "      <th></th>\n",
       "      <th>delay</th>\n",
       "      <th>distance</th>\n",
       "      <th>origin</th>\n",
       "      <th>destination</th>\n",
       "    </tr>\n",
       "    <tr>\n",
       "      <th>date</th>\n",
       "      <th></th>\n",
       "      <th></th>\n",
       "      <th></th>\n",
       "      <th></th>\n",
       "    </tr>\n",
       "  </thead>\n",
       "  <tbody>\n",
       "    <tr>\n",
       "      <th>February</th>\n",
       "      <td>0</td>\n",
       "      <td>371</td>\n",
       "      <td>OAK</td>\n",
       "      <td>SNA</td>\n",
       "    </tr>\n",
       "    <tr>\n",
       "      <th>February</th>\n",
       "      <td>0</td>\n",
       "      <td>337</td>\n",
       "      <td>OAK</td>\n",
       "      <td>LAX</td>\n",
       "    </tr>\n",
       "    <tr>\n",
       "      <th>February</th>\n",
       "      <td>0</td>\n",
       "      <td>287</td>\n",
       "      <td>GEG</td>\n",
       "      <td>BOI</td>\n",
       "    </tr>\n",
       "    <tr>\n",
       "      <th>February</th>\n",
       "      <td>0</td>\n",
       "      <td>453</td>\n",
       "      <td>TUL</td>\n",
       "      <td>HOU</td>\n",
       "    </tr>\n",
       "    <tr>\n",
       "      <th>February</th>\n",
       "      <td>0</td>\n",
       "      <td>229</td>\n",
       "      <td>MDW</td>\n",
       "      <td>DTW</td>\n",
       "    </tr>\n",
       "    <tr>\n",
       "      <th>...</th>\n",
       "      <td>...</td>\n",
       "      <td>...</td>\n",
       "      <td>...</td>\n",
       "      <td>...</td>\n",
       "    </tr>\n",
       "    <tr>\n",
       "      <th>February</th>\n",
       "      <td>152</td>\n",
       "      <td>313</td>\n",
       "      <td>OKC</td>\n",
       "      <td>MCI</td>\n",
       "    </tr>\n",
       "    <tr>\n",
       "      <th>February</th>\n",
       "      <td>34</td>\n",
       "      <td>197</td>\n",
       "      <td>TPA</td>\n",
       "      <td>FLL</td>\n",
       "    </tr>\n",
       "    <tr>\n",
       "      <th>February</th>\n",
       "      <td>112</td>\n",
       "      <td>677</td>\n",
       "      <td>LAX</td>\n",
       "      <td>ABQ</td>\n",
       "    </tr>\n",
       "    <tr>\n",
       "      <th>February</th>\n",
       "      <td>55</td>\n",
       "      <td>256</td>\n",
       "      <td>LAS</td>\n",
       "      <td>PHX</td>\n",
       "    </tr>\n",
       "    <tr>\n",
       "      <th>February</th>\n",
       "      <td>70</td>\n",
       "      <td>304</td>\n",
       "      <td>PHX</td>\n",
       "      <td>SAN</td>\n",
       "    </tr>\n",
       "  </tbody>\n",
       "</table>\n",
       "<p>6256 rows × 4 columns</p>\n",
       "</div>"
      ],
      "text/plain": [
       "          delay  distance origin destination\n",
       "date                                        \n",
       "February      0       371    OAK         SNA\n",
       "February      0       337    OAK         LAX\n",
       "February      0       287    GEG         BOI\n",
       "February      0       453    TUL         HOU\n",
       "February      0       229    MDW         DTW\n",
       "...         ...       ...    ...         ...\n",
       "February    152       313    OKC         MCI\n",
       "February     34       197    TPA         FLL\n",
       "February    112       677    LAX         ABQ\n",
       "February     55       256    LAS         PHX\n",
       "February     70       304    PHX         SAN\n",
       "\n",
       "[6256 rows x 4 columns]"
      ]
     },
     "execution_count": 164,
     "metadata": {},
     "output_type": "execute_result"
    }
   ],
   "source": [
    "feb"
   ]
  },
  {
   "cell_type": "code",
   "execution_count": 166,
   "id": "e2682354-5ad2-4e6a-9e6f-3cddd006ba04",
   "metadata": {},
   "outputs": [
    {
     "data": {
      "text/plain": [
       "dtype('float64')"
      ]
     },
     "execution_count": 166,
     "metadata": {},
     "output_type": "execute_result"
    }
   ],
   "source": [
    "avg_monthly_delay.dtype"
   ]
  },
  {
   "cell_type": "code",
   "execution_count": 172,
   "id": "80c201e6-2548-400b-9944-ad76b0c814e5",
   "metadata": {},
   "outputs": [
    {
     "data": {
      "text/plain": [
       "11.11945"
      ]
     },
     "execution_count": 172,
     "metadata": {},
     "output_type": "execute_result"
    }
   ],
   "source": [
    "avg_monthly_delay"
   ]
  },
  {
   "cell_type": "code",
   "execution_count": 168,
   "id": "877f32f6-f5e5-4abf-a33a-269bbbab1785",
   "metadata": {},
   "outputs": [
    {
     "data": {
      "text/plain": [
       "(3.651570651457094, 0.0002627706578178998)"
      ]
     },
     "execution_count": 168,
     "metadata": {},
     "output_type": "execute_result"
    }
   ],
   "source": [
    "t, p = stats.ttest_1samp(feb.delay, avg_monthly_delay)\n",
    "t, p"
   ]
  },
  {
   "cell_type": "code",
   "execution_count": 171,
   "id": "43991f08-0e25-484a-8b3f-8a32234f9420",
   "metadata": {},
   "outputs": [
    {
     "name": "stdout",
     "output_type": "stream",
     "text": [
      "There is a signifcant result. P-value was 0.0.\n",
      "T-value was greater than 0. With a value of 3.65.\n"
     ]
    }
   ],
   "source": [
    "ev.check_ttest(t, p)"
   ]
  },
  {
   "cell_type": "code",
   "execution_count": 174,
   "id": "5e6b3e5e-5130-4f33-95d1-7bdba5622913",
   "metadata": {},
   "outputs": [
    {
     "name": "stdout",
     "output_type": "stream",
     "text": [
      "There is a signifcant result. P-value was 0.02.\n",
      "T-value was greater than 0. With a value of 2.32.\n"
     ]
    }
   ],
   "source": [
    "t, p = stats.ttest_ind(feb.delay,jan.delay)\n",
    "ev.check_ttest(t, p)"
   ]
  },
  {
   "cell_type": "code",
   "execution_count": null,
   "id": "8790e170-0beb-43a9-9421-25bfe20815a1",
   "metadata": {},
   "outputs": [],
   "source": []
  }
 ],
 "metadata": {
  "kernelspec": {
   "display_name": "Python 3 (ipykernel)",
   "language": "python",
   "name": "python3"
  },
  "language_info": {
   "codemirror_mode": {
    "name": "ipython",
    "version": 3
   },
   "file_extension": ".py",
   "mimetype": "text/x-python",
   "name": "python",
   "nbconvert_exporter": "python",
   "pygments_lexer": "ipython3",
   "version": "3.10.9"
  }
 },
 "nbformat": 4,
 "nbformat_minor": 5
}
