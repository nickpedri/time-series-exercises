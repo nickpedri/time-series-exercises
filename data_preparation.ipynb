{
 "cells": [
  {
   "cell_type": "markdown",
   "id": "299a0803-ea16-4bfe-b46d-4045aa9263f8",
   "metadata": {
    "tags": []
   },
   "source": [
    "# Data preparation exercises\n",
    "\n",
    "The end result of this exercise should be a file named prepare.py."
   ]
  },
  {
   "cell_type": "code",
   "execution_count": 1,
   "id": "1e286b48-f4e3-477a-8bfe-c654dc2bdc22",
   "metadata": {},
   "outputs": [],
   "source": [
    "import pandas as pd\n",
    "import numpy as np\n",
    "\n",
    "import matplotlib.pyplot as plt\n",
    "import seaborn as sns\n",
    "\n",
    "#from env import get_connection"
   ]
  },
  {
   "cell_type": "markdown",
   "id": "e312bff3-504c-4f7d-afe7-20e298b01f11",
   "metadata": {},
   "source": [
    "## PT 1"
   ]
  },
  {
   "cell_type": "markdown",
   "id": "7eba3812-b413-4dc9-8429-014820bbd2db",
   "metadata": {},
   "source": [
    "Using your store items data:\n",
    "\n",
    "1. Convert date column to datetime format.\n",
    "0. Plot the distribution of sale_amount and item_price.\n",
    "0. Set the index to be the datetime variable.\n",
    "0. Add a 'month' and 'day of week' column to your dataframe.\n",
    "0. Add a column to your dataframe, sales_total, which is a derived from sale_amount (total items) and item_price."
   ]
  },
  {
   "cell_type": "markdown",
   "id": "a4ef23a3-b86a-4495-bef1-bc505c224642",
   "metadata": {},
   "source": [
    "6. Make sure all the work that you have done above is reproducible. That is, you should put the code above into separate 0. functions and be able to re-run the functions and get the same results."
   ]
  },
  {
   "cell_type": "code",
   "execution_count": 26,
   "id": "205b83d7-f0f5-4acc-9789-e4102b005e51",
   "metadata": {},
   "outputs": [],
   "source": [
    "def create_index(df, date_col, datetime=True, index=True, sort=True):\n",
    "    if datetime:\n",
    "        df[date_col] = pd.to_datetime(df[date_col])\n",
    "    if index:\n",
    "        df = df.set_index(date_col)\n",
    "    if sort:\n",
    "        df = df.sort_values(date_col)\n",
    "    return df"
   ]
  },
  {
   "cell_type": "code",
   "execution_count": 3,
   "id": "d0245de9-b792-4394-886f-5041f1865a25",
   "metadata": {},
   "outputs": [],
   "source": [
    "# Done in lesson"
   ]
  },
  {
   "cell_type": "markdown",
   "id": "655e7ea5-530e-4017-a01b-7acb6510f9a8",
   "metadata": {},
   "source": [
    "## PT 2\n",
    "\n",
    "Using the OPS data acquired in the Acquire exercises opsd_germany_daily.csv, complete the following:"
   ]
  },
  {
   "cell_type": "code",
   "execution_count": 99,
   "id": "4308cc54-185d-4fe5-a5b8-c1b8adfccb5c",
   "metadata": {},
   "outputs": [
    {
     "name": "stderr",
     "output_type": "stream",
     "text": [
      "/var/folders/m4/_r30hp156kj90s9_qf1t1zvc0000gn/T/ipykernel_44821/345180664.py:3: FutureWarning: The default value of regex will change from True to False in a future version. In addition, single character regular expressions will *not* be treated as literal strings when regex=True.\n",
      "  power.columns = power.columns.str.replace('+', '_')\n"
     ]
    }
   ],
   "source": [
    "power = pd.read_csv('https://raw.githubusercontent.com/jenfly/opsd/master/opsd_germany_daily.csv')\n",
    "power.columns = power.columns.str.lower()\n",
    "power.columns = power.columns.str.replace('+', '_')"
   ]
  },
  {
   "cell_type": "code",
   "execution_count": 100,
   "id": "6ae1d461-f48e-416e-9c16-70be8ecec09b",
   "metadata": {},
   "outputs": [
    {
     "data": {
      "text/html": [
       "<div>\n",
       "<style scoped>\n",
       "    .dataframe tbody tr th:only-of-type {\n",
       "        vertical-align: middle;\n",
       "    }\n",
       "\n",
       "    .dataframe tbody tr th {\n",
       "        vertical-align: top;\n",
       "    }\n",
       "\n",
       "    .dataframe thead th {\n",
       "        text-align: right;\n",
       "    }\n",
       "</style>\n",
       "<table border=\"1\" class=\"dataframe\">\n",
       "  <thead>\n",
       "    <tr style=\"text-align: right;\">\n",
       "      <th></th>\n",
       "      <th>consumption</th>\n",
       "      <th>wind</th>\n",
       "      <th>solar</th>\n",
       "      <th>wind_solar</th>\n",
       "    </tr>\n",
       "    <tr>\n",
       "      <th>date</th>\n",
       "      <th></th>\n",
       "      <th></th>\n",
       "      <th></th>\n",
       "      <th></th>\n",
       "    </tr>\n",
       "  </thead>\n",
       "  <tbody>\n",
       "    <tr>\n",
       "      <th>2006-01-01</th>\n",
       "      <td>1069.184</td>\n",
       "      <td>NaN</td>\n",
       "      <td>NaN</td>\n",
       "      <td>NaN</td>\n",
       "    </tr>\n",
       "    <tr>\n",
       "      <th>2006-01-02</th>\n",
       "      <td>1380.521</td>\n",
       "      <td>NaN</td>\n",
       "      <td>NaN</td>\n",
       "      <td>NaN</td>\n",
       "    </tr>\n",
       "    <tr>\n",
       "      <th>2006-01-03</th>\n",
       "      <td>1442.533</td>\n",
       "      <td>NaN</td>\n",
       "      <td>NaN</td>\n",
       "      <td>NaN</td>\n",
       "    </tr>\n",
       "    <tr>\n",
       "      <th>2006-01-04</th>\n",
       "      <td>1457.217</td>\n",
       "      <td>NaN</td>\n",
       "      <td>NaN</td>\n",
       "      <td>NaN</td>\n",
       "    </tr>\n",
       "    <tr>\n",
       "      <th>2006-01-05</th>\n",
       "      <td>1477.131</td>\n",
       "      <td>NaN</td>\n",
       "      <td>NaN</td>\n",
       "      <td>NaN</td>\n",
       "    </tr>\n",
       "  </tbody>\n",
       "</table>\n",
       "</div>"
      ],
      "text/plain": [
       "            consumption  wind  solar  wind_solar\n",
       "date                                            \n",
       "2006-01-01     1069.184   NaN    NaN         NaN\n",
       "2006-01-02     1380.521   NaN    NaN         NaN\n",
       "2006-01-03     1442.533   NaN    NaN         NaN\n",
       "2006-01-04     1457.217   NaN    NaN         NaN\n",
       "2006-01-05     1477.131   NaN    NaN         NaN"
      ]
     },
     "execution_count": 100,
     "metadata": {},
     "output_type": "execute_result"
    }
   ],
   "source": [
    "power = create_index(power, 'date', True, True, True)\n",
    "power.head()"
   ]
  },
  {
   "cell_type": "code",
   "execution_count": 41,
   "id": "9a109f81-9959-44ab-81ce-bb227b569b81",
   "metadata": {},
   "outputs": [],
   "source": [
    "power.to_csv('opsd_germany_daily.csv')"
   ]
  },
  {
   "cell_type": "markdown",
   "id": "027eb764-ef76-4d04-8584-9d09cbd7aca7",
   "metadata": {},
   "source": [
    "### 1. Convert date column to datetime format."
   ]
  },
  {
   "cell_type": "code",
   "execution_count": 108,
   "id": "5053b79d-4c20-4ba3-9079-f95f95504f90",
   "metadata": {},
   "outputs": [
    {
     "data": {
      "text/html": [
       "<div>\n",
       "<style scoped>\n",
       "    .dataframe tbody tr th:only-of-type {\n",
       "        vertical-align: middle;\n",
       "    }\n",
       "\n",
       "    .dataframe tbody tr th {\n",
       "        vertical-align: top;\n",
       "    }\n",
       "\n",
       "    .dataframe thead th {\n",
       "        text-align: right;\n",
       "    }\n",
       "</style>\n",
       "<table border=\"1\" class=\"dataframe\">\n",
       "  <thead>\n",
       "    <tr style=\"text-align: right;\">\n",
       "      <th></th>\n",
       "      <th>consumption</th>\n",
       "      <th>wind</th>\n",
       "      <th>solar</th>\n",
       "      <th>wind_solar</th>\n",
       "    </tr>\n",
       "    <tr>\n",
       "      <th>date</th>\n",
       "      <th></th>\n",
       "      <th></th>\n",
       "      <th></th>\n",
       "      <th></th>\n",
       "    </tr>\n",
       "  </thead>\n",
       "  <tbody>\n",
       "    <tr>\n",
       "      <th>2006-01-01</th>\n",
       "      <td>1069.184</td>\n",
       "      <td>0.0</td>\n",
       "      <td>0.0</td>\n",
       "      <td>0.0</td>\n",
       "    </tr>\n",
       "    <tr>\n",
       "      <th>2006-01-02</th>\n",
       "      <td>1380.521</td>\n",
       "      <td>0.0</td>\n",
       "      <td>0.0</td>\n",
       "      <td>0.0</td>\n",
       "    </tr>\n",
       "    <tr>\n",
       "      <th>2006-01-03</th>\n",
       "      <td>1442.533</td>\n",
       "      <td>0.0</td>\n",
       "      <td>0.0</td>\n",
       "      <td>0.0</td>\n",
       "    </tr>\n",
       "    <tr>\n",
       "      <th>2006-01-04</th>\n",
       "      <td>1457.217</td>\n",
       "      <td>0.0</td>\n",
       "      <td>0.0</td>\n",
       "      <td>0.0</td>\n",
       "    </tr>\n",
       "    <tr>\n",
       "      <th>2006-01-05</th>\n",
       "      <td>1477.131</td>\n",
       "      <td>0.0</td>\n",
       "      <td>0.0</td>\n",
       "      <td>0.0</td>\n",
       "    </tr>\n",
       "  </tbody>\n",
       "</table>\n",
       "</div>"
      ],
      "text/plain": [
       "            consumption  wind  solar  wind_solar\n",
       "date                                            \n",
       "2006-01-01     1069.184   0.0    0.0         0.0\n",
       "2006-01-02     1380.521   0.0    0.0         0.0\n",
       "2006-01-03     1442.533   0.0    0.0         0.0\n",
       "2006-01-04     1457.217   0.0    0.0         0.0\n",
       "2006-01-05     1477.131   0.0    0.0         0.0"
      ]
     },
     "execution_count": 108,
     "metadata": {},
     "output_type": "execute_result"
    }
   ],
   "source": [
    "power = pd.read_csv('opsd_germany_daily.csv')\n",
    "power = create_index(power, 'date')\n",
    "power.head()"
   ]
  },
  {
   "cell_type": "markdown",
   "id": "120e97c6-bf55-4532-b7ad-45abf343dc47",
   "metadata": {
    "jp-MarkdownHeadingCollapsed": true,
    "tags": []
   },
   "source": [
    "### 2. Plot the distribution of each of your variables."
   ]
  },
  {
   "cell_type": "code",
   "execution_count": 47,
   "id": "781fa6bf-ca85-4b3b-be59-ea6c88112fff",
   "metadata": {},
   "outputs": [
    {
     "data": {
      "image/png": "[encoded data removed]",
      "text/plain": [
       "<Figure size 800x600 with 1 Axes>"
      ]
     },
     "metadata": {},
     "output_type": "display_data"
    },
    {
     "data": {
      "image/png": "[encoded data removed]",
      "text/plain": [
       "<Figure size 800x600 with 1 Axes>"
      ]
     },
     "metadata": {},
     "output_type": "display_data"
    },
    {
     "data": {
      "image/png": "[encoded data removed]",
      "text/plain": [
       "<Figure size 800x600 with 1 Axes>"
      ]
     },
     "metadata": {},
     "output_type": "display_data"
    },
    {
     "data": {
      "image/png": "[encoded data removed]",
      "text/plain": [
       "<Figure size 800x600 with 1 Axes>"
      ]
     },
     "metadata": {},
     "output_type": "display_data"
    }
   ],
   "source": [
    "for col in power.columns:\n",
    "    plt.figure(figsize=(8,6))\n",
    "    plt.hist(power[col], bins=30)\n",
    "    plt.xlabel(col)\n",
    "    plt.show()"
   ]
  },
  {
   "cell_type": "markdown",
   "id": "c2dc42f6-fced-49f9-8956-fb2a5e0360b4",
   "metadata": {},
   "source": [
    "### 3. Set the index to be the datetime variable."
   ]
  },
  {
   "cell_type": "code",
   "execution_count": null,
   "id": "6a9842e8-6497-405b-8729-08d63f5b98f2",
   "metadata": {},
   "outputs": [],
   "source": [
    "# Done above in function"
   ]
  },
  {
   "cell_type": "markdown",
   "id": "9e7fcfae-a4f2-4935-8bec-dd8d47757b4e",
   "metadata": {},
   "source": [
    "### 4. Add a month and a year column to your dataframe."
   ]
  },
  {
   "cell_type": "code",
   "execution_count": 62,
   "id": "ffc22542-1ffd-4968-aeb8-a06bf4b5c6b6",
   "metadata": {},
   "outputs": [],
   "source": [
    "def add_cols(df_one, name_dd=True, name_mm=True, year=True):\n",
    "    df = df_one.copy()\n",
    "    if name_dd:\n",
    "        df['day_of_week'] = df.index.day_name()\n",
    "    if name_mm:\n",
    "        df['month'] = df.index.month_name()\n",
    "    if year:\n",
    "        df['year'] = df.index.year\n",
    "    return df"
   ]
  },
  {
   "cell_type": "code",
   "execution_count": 67,
   "id": "903b91a6-eedb-4ab9-9f1e-fba2a780a50e",
   "metadata": {},
   "outputs": [
    {
     "data": {
      "text/html": [
       "<div>\n",
       "<style scoped>\n",
       "    .dataframe tbody tr th:only-of-type {\n",
       "        vertical-align: middle;\n",
       "    }\n",
       "\n",
       "    .dataframe tbody tr th {\n",
       "        vertical-align: top;\n",
       "    }\n",
       "\n",
       "    .dataframe thead th {\n",
       "        text-align: right;\n",
       "    }\n",
       "</style>\n",
       "<table border=\"1\" class=\"dataframe\">\n",
       "  <thead>\n",
       "    <tr style=\"text-align: right;\">\n",
       "      <th></th>\n",
       "      <th>consumption</th>\n",
       "      <th>wind</th>\n",
       "      <th>solar</th>\n",
       "      <th>wind_solar</th>\n",
       "      <th>month</th>\n",
       "      <th>year</th>\n",
       "    </tr>\n",
       "    <tr>\n",
       "      <th>date</th>\n",
       "      <th></th>\n",
       "      <th></th>\n",
       "      <th></th>\n",
       "      <th></th>\n",
       "      <th></th>\n",
       "      <th></th>\n",
       "    </tr>\n",
       "  </thead>\n",
       "  <tbody>\n",
       "    <tr>\n",
       "      <th>2006-01-01</th>\n",
       "      <td>1069.184</td>\n",
       "      <td>NaN</td>\n",
       "      <td>NaN</td>\n",
       "      <td>NaN</td>\n",
       "      <td>January</td>\n",
       "      <td>2006</td>\n",
       "    </tr>\n",
       "    <tr>\n",
       "      <th>2006-01-02</th>\n",
       "      <td>1380.521</td>\n",
       "      <td>NaN</td>\n",
       "      <td>NaN</td>\n",
       "      <td>NaN</td>\n",
       "      <td>January</td>\n",
       "      <td>2006</td>\n",
       "    </tr>\n",
       "    <tr>\n",
       "      <th>2006-01-03</th>\n",
       "      <td>1442.533</td>\n",
       "      <td>NaN</td>\n",
       "      <td>NaN</td>\n",
       "      <td>NaN</td>\n",
       "      <td>January</td>\n",
       "      <td>2006</td>\n",
       "    </tr>\n",
       "    <tr>\n",
       "      <th>2006-01-04</th>\n",
       "      <td>1457.217</td>\n",
       "      <td>NaN</td>\n",
       "      <td>NaN</td>\n",
       "      <td>NaN</td>\n",
       "      <td>January</td>\n",
       "      <td>2006</td>\n",
       "    </tr>\n",
       "    <tr>\n",
       "      <th>2006-01-05</th>\n",
       "      <td>1477.131</td>\n",
       "      <td>NaN</td>\n",
       "      <td>NaN</td>\n",
       "      <td>NaN</td>\n",
       "      <td>January</td>\n",
       "      <td>2006</td>\n",
       "    </tr>\n",
       "  </tbody>\n",
       "</table>\n",
       "</div>"
      ],
      "text/plain": [
       "            consumption  wind  solar  wind_solar    month  year\n",
       "date                                                           \n",
       "2006-01-01     1069.184   NaN    NaN         NaN  January  2006\n",
       "2006-01-02     1380.521   NaN    NaN         NaN  January  2006\n",
       "2006-01-03     1442.533   NaN    NaN         NaN  January  2006\n",
       "2006-01-04     1457.217   NaN    NaN         NaN  January  2006\n",
       "2006-01-05     1477.131   NaN    NaN         NaN  January  2006"
      ]
     },
     "execution_count": 67,
     "metadata": {},
     "output_type": "execute_result"
    }
   ],
   "source": [
    "power = add_cols(power, name_dd=False)\n",
    "power.head()"
   ]
  },
  {
   "cell_type": "markdown",
   "id": "6c68dc46-4db6-486c-b246-69f1004c48b9",
   "metadata": {},
   "source": [
    "### 5. Fill any missing values."
   ]
  },
  {
   "cell_type": "code",
   "execution_count": 79,
   "id": "bdfc5314-50b7-44ba-9a7d-b17872d2e9b0",
   "metadata": {},
   "outputs": [
    {
     "data": {
      "text/plain": [
       "consumption    0.000000\n",
       "wind           0.333790\n",
       "solar          0.500799\n",
       "wind_solar     0.501027\n",
       "month          0.000000\n",
       "year           0.000000\n",
       "dtype: float64"
      ]
     },
     "execution_count": 79,
     "metadata": {},
     "output_type": "execute_result"
    }
   ],
   "source": [
    "for col in power.column"
   ]
  },
  {
   "cell_type": "code",
   "execution_count": 88,
   "id": "869a69b6-5c45-4aa1-a595-bd9d66bb1d64",
   "metadata": {},
   "outputs": [
    {
     "name": "stderr",
     "output_type": "stream",
     "text": [
      "/var/folders/m4/_r30hp156kj90s9_qf1t1zvc0000gn/T/ipykernel_44821/1315037977.py:1: FutureWarning: The default value of numeric_only in DataFrameGroupBy.mean is deprecated. In a future version, numeric_only will default to False. Either specify numeric_only or select only columns which should be valid for the function.\n",
      "  power.resample('y').mean().head(20)\n"
     ]
    },
    {
     "data": {
      "text/html": [
       "<div>\n",
       "<style scoped>\n",
       "    .dataframe tbody tr th:only-of-type {\n",
       "        vertical-align: middle;\n",
       "    }\n",
       "\n",
       "    .dataframe tbody tr th {\n",
       "        vertical-align: top;\n",
       "    }\n",
       "\n",
       "    .dataframe thead th {\n",
       "        text-align: right;\n",
       "    }\n",
       "</style>\n",
       "<table border=\"1\" class=\"dataframe\">\n",
       "  <thead>\n",
       "    <tr style=\"text-align: right;\">\n",
       "      <th></th>\n",
       "      <th>consumption</th>\n",
       "      <th>wind</th>\n",
       "      <th>solar</th>\n",
       "      <th>wind_solar</th>\n",
       "      <th>year</th>\n",
       "    </tr>\n",
       "    <tr>\n",
       "      <th>date</th>\n",
       "      <th></th>\n",
       "      <th></th>\n",
       "      <th></th>\n",
       "      <th></th>\n",
       "      <th></th>\n",
       "    </tr>\n",
       "  </thead>\n",
       "  <tbody>\n",
       "    <tr>\n",
       "      <th>2006-12-31</th>\n",
       "      <td>1339.913797</td>\n",
       "      <td>NaN</td>\n",
       "      <td>NaN</td>\n",
       "      <td>NaN</td>\n",
       "      <td>2006.0</td>\n",
       "    </tr>\n",
       "    <tr>\n",
       "      <th>2007-12-31</th>\n",
       "      <td>1360.635197</td>\n",
       "      <td>NaN</td>\n",
       "      <td>NaN</td>\n",
       "      <td>NaN</td>\n",
       "      <td>2007.0</td>\n",
       "    </tr>\n",
       "    <tr>\n",
       "      <th>2008-12-31</th>\n",
       "      <td>1354.018787</td>\n",
       "      <td>NaN</td>\n",
       "      <td>NaN</td>\n",
       "      <td>NaN</td>\n",
       "      <td>2008.0</td>\n",
       "    </tr>\n",
       "    <tr>\n",
       "      <th>2009-12-31</th>\n",
       "      <td>1259.554597</td>\n",
       "      <td>NaN</td>\n",
       "      <td>NaN</td>\n",
       "      <td>NaN</td>\n",
       "      <td>2009.0</td>\n",
       "    </tr>\n",
       "    <tr>\n",
       "      <th>2010-12-31</th>\n",
       "      <td>1338.599178</td>\n",
       "      <td>98.388430</td>\n",
       "      <td>NaN</td>\n",
       "      <td>NaN</td>\n",
       "      <td>2010.0</td>\n",
       "    </tr>\n",
       "    <tr>\n",
       "      <th>2011-12-31</th>\n",
       "      <td>1328.257770</td>\n",
       "      <td>120.969646</td>\n",
       "      <td>NaN</td>\n",
       "      <td>NaN</td>\n",
       "      <td>2011.0</td>\n",
       "    </tr>\n",
       "    <tr>\n",
       "      <th>2012-12-31</th>\n",
       "      <td>1282.991131</td>\n",
       "      <td>125.307833</td>\n",
       "      <td>76.194896</td>\n",
       "      <td>201.502730</td>\n",
       "      <td>2012.0</td>\n",
       "    </tr>\n",
       "    <tr>\n",
       "      <th>2013-12-31</th>\n",
       "      <td>1269.416036</td>\n",
       "      <td>129.309129</td>\n",
       "      <td>81.431901</td>\n",
       "      <td>211.287722</td>\n",
       "      <td>2013.0</td>\n",
       "    </tr>\n",
       "    <tr>\n",
       "      <th>2014-12-31</th>\n",
       "      <td>1381.273482</td>\n",
       "      <td>140.405692</td>\n",
       "      <td>89.527017</td>\n",
       "      <td>230.305254</td>\n",
       "      <td>2014.0</td>\n",
       "    </tr>\n",
       "    <tr>\n",
       "      <th>2015-12-31</th>\n",
       "      <td>1384.286474</td>\n",
       "      <td>212.243819</td>\n",
       "      <td>95.635995</td>\n",
       "      <td>307.879814</td>\n",
       "      <td>2015.0</td>\n",
       "    </tr>\n",
       "    <tr>\n",
       "      <th>2016-12-31</th>\n",
       "      <td>1382.315175</td>\n",
       "      <td>210.404716</td>\n",
       "      <td>94.433945</td>\n",
       "      <td>304.838661</td>\n",
       "      <td>2016.0</td>\n",
       "    </tr>\n",
       "    <tr>\n",
       "      <th>2017-12-31</th>\n",
       "      <td>1382.839368</td>\n",
       "      <td>281.280452</td>\n",
       "      <td>98.308611</td>\n",
       "      <td>379.589063</td>\n",
       "      <td>2017.0</td>\n",
       "    </tr>\n",
       "  </tbody>\n",
       "</table>\n",
       "</div>"
      ],
      "text/plain": [
       "            consumption        wind      solar  wind_solar    year\n",
       "date                                                              \n",
       "2006-12-31  1339.913797         NaN        NaN         NaN  2006.0\n",
       "2007-12-31  1360.635197         NaN        NaN         NaN  2007.0\n",
       "2008-12-31  1354.018787         NaN        NaN         NaN  2008.0\n",
       "2009-12-31  1259.554597         NaN        NaN         NaN  2009.0\n",
       "2010-12-31  1338.599178   98.388430        NaN         NaN  2010.0\n",
       "2011-12-31  1328.257770  120.969646        NaN         NaN  2011.0\n",
       "2012-12-31  1282.991131  125.307833  76.194896  201.502730  2012.0\n",
       "2013-12-31  1269.416036  129.309129  81.431901  211.287722  2013.0\n",
       "2014-12-31  1381.273482  140.405692  89.527017  230.305254  2014.0\n",
       "2015-12-31  1384.286474  212.243819  95.635995  307.879814  2015.0\n",
       "2016-12-31  1382.315175  210.404716  94.433945  304.838661  2016.0\n",
       "2017-12-31  1382.839368  281.280452  98.308611  379.589063  2017.0"
      ]
     },
     "execution_count": 88,
     "metadata": {},
     "output_type": "execute_result"
    }
   ],
   "source": [
    "power.resample('y').mean().head(20)"
   ]
  },
  {
   "cell_type": "markdown",
   "id": "e28409f3-78dd-46f8-93ba-2db1c16aaaa9",
   "metadata": {},
   "source": [
    "Based off the promp for the previous acquisition exercises, I have concluded that solar and wind are the power generated in the country and it must have been implemented in 2010 and 2012 so the nulls likely indicate no power produced."
   ]
  },
  {
   "cell_type": "code",
   "execution_count": 101,
   "id": "83698b3f-673c-49b4-92c1-f7f089ea7646",
   "metadata": {},
   "outputs": [],
   "source": [
    "power = power.fillna(0)"
   ]
  },
  {
   "cell_type": "code",
   "execution_count": 102,
   "id": "da0bebf9-f38f-4f3d-a3a6-5142b8f7e762",
   "metadata": {},
   "outputs": [],
   "source": [
    "power.wind_solar = power.wind + power.solar"
   ]
  },
  {
   "cell_type": "code",
   "execution_count": 103,
   "id": "9bce9f93-ad2c-4777-83a1-e048787dd2d4",
   "metadata": {},
   "outputs": [
    {
     "data": {
      "text/html": [
       "<div>\n",
       "<style scoped>\n",
       "    .dataframe tbody tr th:only-of-type {\n",
       "        vertical-align: middle;\n",
       "    }\n",
       "\n",
       "    .dataframe tbody tr th {\n",
       "        vertical-align: top;\n",
       "    }\n",
       "\n",
       "    .dataframe thead th {\n",
       "        text-align: right;\n",
       "    }\n",
       "</style>\n",
       "<table border=\"1\" class=\"dataframe\">\n",
       "  <thead>\n",
       "    <tr style=\"text-align: right;\">\n",
       "      <th></th>\n",
       "      <th>consumption</th>\n",
       "      <th>wind</th>\n",
       "      <th>solar</th>\n",
       "      <th>wind_solar</th>\n",
       "    </tr>\n",
       "    <tr>\n",
       "      <th>date</th>\n",
       "      <th></th>\n",
       "      <th></th>\n",
       "      <th></th>\n",
       "      <th></th>\n",
       "    </tr>\n",
       "  </thead>\n",
       "  <tbody>\n",
       "    <tr>\n",
       "      <th>2006-12-31</th>\n",
       "      <td>1339.913797</td>\n",
       "      <td>0.000000</td>\n",
       "      <td>0.000000</td>\n",
       "      <td>0.000000</td>\n",
       "    </tr>\n",
       "    <tr>\n",
       "      <th>2007-12-31</th>\n",
       "      <td>1360.635197</td>\n",
       "      <td>0.000000</td>\n",
       "      <td>0.000000</td>\n",
       "      <td>0.000000</td>\n",
       "    </tr>\n",
       "    <tr>\n",
       "      <th>2008-12-31</th>\n",
       "      <td>1354.018787</td>\n",
       "      <td>0.000000</td>\n",
       "      <td>0.000000</td>\n",
       "      <td>0.000000</td>\n",
       "    </tr>\n",
       "    <tr>\n",
       "      <th>2009-12-31</th>\n",
       "      <td>1259.554597</td>\n",
       "      <td>0.000000</td>\n",
       "      <td>0.000000</td>\n",
       "      <td>0.000000</td>\n",
       "    </tr>\n",
       "    <tr>\n",
       "      <th>2010-12-31</th>\n",
       "      <td>1338.599178</td>\n",
       "      <td>98.388430</td>\n",
       "      <td>0.000000</td>\n",
       "      <td>98.388430</td>\n",
       "    </tr>\n",
       "    <tr>\n",
       "      <th>2011-12-31</th>\n",
       "      <td>1328.257770</td>\n",
       "      <td>120.638222</td>\n",
       "      <td>0.000000</td>\n",
       "      <td>120.638222</td>\n",
       "    </tr>\n",
       "    <tr>\n",
       "      <th>2012-12-31</th>\n",
       "      <td>1282.991131</td>\n",
       "      <td>125.307833</td>\n",
       "      <td>76.194896</td>\n",
       "      <td>201.502730</td>\n",
       "    </tr>\n",
       "    <tr>\n",
       "      <th>2013-12-31</th>\n",
       "      <td>1269.416036</td>\n",
       "      <td>129.309129</td>\n",
       "      <td>80.985699</td>\n",
       "      <td>210.294827</td>\n",
       "    </tr>\n",
       "    <tr>\n",
       "      <th>2014-12-31</th>\n",
       "      <td>1381.273482</td>\n",
       "      <td>140.021019</td>\n",
       "      <td>89.036458</td>\n",
       "      <td>229.057477</td>\n",
       "    </tr>\n",
       "    <tr>\n",
       "      <th>2015-12-31</th>\n",
       "      <td>1384.286474</td>\n",
       "      <td>212.243819</td>\n",
       "      <td>95.635995</td>\n",
       "      <td>307.879814</td>\n",
       "    </tr>\n",
       "    <tr>\n",
       "      <th>2016-12-31</th>\n",
       "      <td>1382.315175</td>\n",
       "      <td>210.404716</td>\n",
       "      <td>94.433945</td>\n",
       "      <td>304.838661</td>\n",
       "    </tr>\n",
       "    <tr>\n",
       "      <th>2017-12-31</th>\n",
       "      <td>1382.839368</td>\n",
       "      <td>281.280452</td>\n",
       "      <td>98.308611</td>\n",
       "      <td>379.589063</td>\n",
       "    </tr>\n",
       "  </tbody>\n",
       "</table>\n",
       "</div>"
      ],
      "text/plain": [
       "            consumption        wind      solar  wind_solar\n",
       "date                                                      \n",
       "2006-12-31  1339.913797    0.000000   0.000000    0.000000\n",
       "2007-12-31  1360.635197    0.000000   0.000000    0.000000\n",
       "2008-12-31  1354.018787    0.000000   0.000000    0.000000\n",
       "2009-12-31  1259.554597    0.000000   0.000000    0.000000\n",
       "2010-12-31  1338.599178   98.388430   0.000000   98.388430\n",
       "2011-12-31  1328.257770  120.638222   0.000000  120.638222\n",
       "2012-12-31  1282.991131  125.307833  76.194896  201.502730\n",
       "2013-12-31  1269.416036  129.309129  80.985699  210.294827\n",
       "2014-12-31  1381.273482  140.021019  89.036458  229.057477\n",
       "2015-12-31  1384.286474  212.243819  95.635995  307.879814\n",
       "2016-12-31  1382.315175  210.404716  94.433945  304.838661\n",
       "2017-12-31  1382.839368  281.280452  98.308611  379.589063"
      ]
     },
     "execution_count": 103,
     "metadata": {},
     "output_type": "execute_result"
    }
   ],
   "source": [
    "power.resample('y').mean().head(20)"
   ]
  },
  {
   "cell_type": "code",
   "execution_count": 107,
   "id": "3c6a3dd7-2315-4858-8650-a8d65c65c5be",
   "metadata": {},
   "outputs": [],
   "source": [
    "power.to_csv('opsd_germany_daily.csv')"
   ]
  },
  {
   "cell_type": "code",
   "execution_count": 97,
   "id": "a10fd027-789a-4153-8b6f-4fd76a23c874",
   "metadata": {},
   "outputs": [
    {
     "data": {
      "text/html": [
       "<div>\n",
       "<style scoped>\n",
       "    .dataframe tbody tr th:only-of-type {\n",
       "        vertical-align: middle;\n",
       "    }\n",
       "\n",
       "    .dataframe tbody tr th {\n",
       "        vertical-align: top;\n",
       "    }\n",
       "\n",
       "    .dataframe thead th {\n",
       "        text-align: right;\n",
       "    }\n",
       "</style>\n",
       "<table border=\"1\" class=\"dataframe\">\n",
       "  <thead>\n",
       "    <tr style=\"text-align: right;\">\n",
       "      <th></th>\n",
       "      <th>consumption</th>\n",
       "      <th>wind</th>\n",
       "      <th>solar</th>\n",
       "      <th>wind_solar</th>\n",
       "      <th>month</th>\n",
       "      <th>year</th>\n",
       "    </tr>\n",
       "    <tr>\n",
       "      <th>date</th>\n",
       "      <th></th>\n",
       "      <th></th>\n",
       "      <th></th>\n",
       "      <th></th>\n",
       "      <th></th>\n",
       "      <th></th>\n",
       "    </tr>\n",
       "  </thead>\n",
       "  <tbody>\n",
       "    <tr>\n",
       "      <th>2006-01-01</th>\n",
       "      <td>1069.184</td>\n",
       "      <td>0.0</td>\n",
       "      <td>0.0</td>\n",
       "      <td>0.0</td>\n",
       "      <td>January</td>\n",
       "      <td>2006</td>\n",
       "    </tr>\n",
       "    <tr>\n",
       "      <th>2006-01-02</th>\n",
       "      <td>1380.521</td>\n",
       "      <td>0.0</td>\n",
       "      <td>0.0</td>\n",
       "      <td>0.0</td>\n",
       "      <td>January</td>\n",
       "      <td>2006</td>\n",
       "    </tr>\n",
       "    <tr>\n",
       "      <th>2006-01-03</th>\n",
       "      <td>1442.533</td>\n",
       "      <td>0.0</td>\n",
       "      <td>0.0</td>\n",
       "      <td>0.0</td>\n",
       "      <td>January</td>\n",
       "      <td>2006</td>\n",
       "    </tr>\n",
       "    <tr>\n",
       "      <th>2006-01-04</th>\n",
       "      <td>1457.217</td>\n",
       "      <td>0.0</td>\n",
       "      <td>0.0</td>\n",
       "      <td>0.0</td>\n",
       "      <td>January</td>\n",
       "      <td>2006</td>\n",
       "    </tr>\n",
       "    <tr>\n",
       "      <th>2006-01-05</th>\n",
       "      <td>1477.131</td>\n",
       "      <td>0.0</td>\n",
       "      <td>0.0</td>\n",
       "      <td>0.0</td>\n",
       "      <td>January</td>\n",
       "      <td>2006</td>\n",
       "    </tr>\n",
       "  </tbody>\n",
       "</table>\n",
       "</div>"
      ],
      "text/plain": [
       "            consumption  wind  solar  wind_solar    month  year\n",
       "date                                                           \n",
       "2006-01-01     1069.184   0.0    0.0         0.0  January  2006\n",
       "2006-01-02     1380.521   0.0    0.0         0.0  January  2006\n",
       "2006-01-03     1442.533   0.0    0.0         0.0  January  2006\n",
       "2006-01-04     1457.217   0.0    0.0         0.0  January  2006\n",
       "2006-01-05     1477.131   0.0    0.0         0.0  January  2006"
      ]
     },
     "execution_count": 97,
     "metadata": {},
     "output_type": "execute_result"
    }
   ],
   "source": [
    "power = pd.read_csv('opsd_germany_daily.csv')\n",
    "power = create_index(power, 'date')\n",
    "power.head()"
   ]
  },
  {
   "cell_type": "markdown",
   "id": "40935c38-8a30-4763-801e-e8222f291aaf",
   "metadata": {},
   "source": [
    "### 6. Make sure all the work that you have done above is reproducible. That is, you should put the code above into separate functions and be able to re-run the functions and get the same results."
   ]
  },
  {
   "cell_type": "code",
   "execution_count": null,
   "id": "6c1c09fd-471d-4f45-92d6-46c70229ee10",
   "metadata": {},
   "outputs": [],
   "source": []
  }
 ],
 "metadata": {
  "kernelspec": {
   "display_name": "Python 3 (ipykernel)",
   "language": "python",
   "name": "python3"
  },
  "language_info": {
   "codemirror_mode": {
    "name": "ipython",
    "version": 3
   },
   "file_extension": ".py",
   "mimetype": "text/x-python",
   "name": "python",
   "nbconvert_exporter": "python",
   "pygments_lexer": "ipython3",
   "version": "3.10.9"
  }
 },
 "nbformat": 4,
 "nbformat_minor": 5
}
